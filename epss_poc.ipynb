{
 "cells": [
  {
   "cell_type": "markdown",
   "id": "49c9e51b",
   "metadata": {},
   "source": [
    "<img src=\"logo.jpeg\"  />"
   ]
  },
  {
   "cell_type": "markdown",
   "id": "f89c9395",
   "metadata": {},
   "source": [
    "# EPSS PoC Notebook"
   ]
  },
  {
   "cell_type": "markdown",
   "id": "21ca93d2",
   "metadata": {},
   "source": [
    "This notebook will generate a chart based on the CVEs found for a given portfolio.\n",
    "\n",
    "It maps the CVEs CVSS score against the Exploit Prediction Scoring System (EPSS) and also highlights whether or not that particular CVE has been known to be used by Threat Actors (TAs)\n",
    "\n",
    "This can be handy to identify which CVEs should be considered a priority and also which CVEs may be utilized by attackers in future campaigns. \n",
    "\n",
    "For more information on EPSS see [\"EPSS Model\"](https://www.first.org/epss/model)"
   ]
  },
  {
   "cell_type": "markdown",
   "id": "c927e86d",
   "metadata": {},
   "source": [
    "## Intitial Setup\n",
    "\n",
    "Install the pre-requisite libraries"
   ]
  },
  {
   "cell_type": "code",
   "execution_count": null,
   "id": "723c4b97",
   "metadata": {},
   "outputs": [],
   "source": [
    "# Install ipywidgets, requests, pandas if they are not installed\n",
    "!pip install ipywidgets requests pandas"
   ]
  },
  {
   "cell_type": "markdown",
   "id": "c902ce9f",
   "metadata": {},
   "source": [
    "### Imports"
   ]
  },
  {
   "cell_type": "code",
   "execution_count": null,
   "id": "6932efc5",
   "metadata": {},
   "outputs": [],
   "source": [
    "import requests\n",
    "import json\n",
    "import pandas as pd\n",
    "import ipywidgets as widgets\n",
    "import plotly.express as px\n",
    "from concurrent.futures import ThreadPoolExecutor"
   ]
  },
  {
   "cell_type": "markdown",
   "id": "20d82cc2",
   "metadata": {},
   "source": [
    "### Add your ASI API token here"
   ]
  },
  {
   "cell_type": "code",
   "execution_count": null,
   "id": "0b465a80",
   "metadata": {},
   "outputs": [],
   "source": [
    "api_token = \"your_api_token\""
   ]
  },
  {
   "cell_type": "markdown",
   "id": "c05f6f2d",
   "metadata": {},
   "source": [
    "### Function setup"
   ]
  },
  {
   "cell_type": "code",
   "execution_count": null,
   "id": "9d7375ef",
   "metadata": {},
   "outputs": [],
   "source": [
    "def api_get_request(url, headers):\n",
    "    response = requests.get(url, headers=headers)\n",
    "    response.raise_for_status()\n",
    "    return response.json()\n",
    "\n",
    "def api_post_request(url, headers, payload):\n",
    "    response = requests.post(url, headers=headers, json=payload)\n",
    "    response.raise_for_status()\n",
    "    return response.json()\n",
    "\n",
    "def get_base_score(cve, headers):\n",
    "    base_url = 'https://api.securityscorecard.io/asi/details/cve/'\n",
    "    url = base_url + cve\n",
    "    data = api_get_request(url, headers)\n",
    "    base_score = data['cvss2']\n",
    "    ta = len(data['threatActors']) > 0\n",
    "    \n",
    "    return {'baseScore': base_score, 'weaponized': data['weaponized'], 'ta': ta, 'description':data['description']}\n"
   ]
  },
  {
   "cell_type": "markdown",
   "id": "e30386f1",
   "metadata": {},
   "source": [
    "### Display dropdown to select portfolio\n",
    "\n",
    "Once the dropdown is populated select your desired portfolio"
   ]
  },
  {
   "cell_type": "code",
   "execution_count": null,
   "id": "cbb73ed6",
   "metadata": {},
   "outputs": [],
   "source": [
    "headers = {\"Authorization\": f\"Token {api_token}\"}\n",
    "url = f\"https://api.securityscorecard.io/portfolios/\"\n",
    "data = api_get_request(url, headers)\n",
    "\n",
    "dropdown_options = [(item['name'], item['id']) for item in data['entries']]\n",
    "\n",
    "dropdown = widgets.Dropdown(\n",
    "    options=dropdown_options,\n",
    "    value=dropdown_options[0][1],\n",
    "    description='Select:',\n",
    ")\n",
    "display(dropdown)"
   ]
  },
  {
   "cell_type": "markdown",
   "id": "6888a105",
   "metadata": {},
   "source": [
    "### Generate the graph\n",
    "\n",
    "Run the below cell to generate the graph (It may take a little while depending on size of the portfolio and number of CVEs)"
   ]
  },
  {
   "cell_type": "code",
   "execution_count": null,
   "id": "1a699c85",
   "metadata": {},
   "outputs": [],
   "source": [
    "portfolio_id = dropdown.value\n",
    "url = f\"https://api.securityscorecard.io/portfolios/{portfolio_id}/companies\"\n",
    "data = api_get_request(url, headers)\n",
    "\n",
    "domains = [dom['domain'] for dom in data['entries']]\n",
    "\n",
    "formatted_domains = [f\"attributed_domain:'{domain}'\" for domain in domains]\n",
    "domain_str = ' '.join(formatted_domains)\n",
    "query = f\"(and (or {domain_str})has_cve:1)\"\n",
    "\n",
    "url = \"https://api.securityscorecard.io/asi/search\"\n",
    "payload = {\"page\": 0, \"index\": \"ipv4\", \"parser\": \"structured\", \"size\": 100, \"query\": query}\n",
    "headers[\"Content-Type\"] = \"application/json\"\n",
    "\n",
    "data = api_post_request(url, headers, payload)\n",
    "df = pd.read_csv('epss_scores-2023-06-29.csv', comment='#')\n",
    "json_df = pd.json_normalize(data['hits'], 'cves', ['ips','hasThreatActor'], \n",
    "                            record_prefix='cve_', errors='ignore')\n",
    "merged_df = pd.merge(json_df, df, left_on='cve_0', right_on='cve')\n",
    "\n",
    "cve_info = {}\n",
    "\n",
    "def process_cve(cve):\n",
    "    cvss_score = get_base_score(cve, headers)\n",
    "    return cve, cvss_score  # Return as tuple\n",
    "\n",
    "with ThreadPoolExecutor() as executor:\n",
    "    # Use list() to force the function calls to actually be executed.\n",
    "    # executor.map returns a generator, and generators don't actually do any work until they're iterated over.\n",
    "    # list() forces iteration over the generator, thus causing the ThreadPoolExecutor to start doing work.\n",
    "    results = list(executor.map(process_cve, merged_df['cve'].unique()))\n",
    "\n",
    "for cve, cvss_score in results:\n",
    "    cve_info[cve] = {\n",
    "        'cvss': cvss_score['baseScore'],\n",
    "        'tas': cvss_score['ta'],\n",
    "        'description': cvss_score['description'],\n",
    "        'weaponized': cvss_score['weaponized']\n",
    "    }\n",
    "\n",
    "merged_df['cvss'] = merged_df['cve'].map(lambda x: cve_info[x]['cvss'])\n",
    "merged_df['tas'] = merged_df['cve'].map(lambda x: cve_info[x]['tas'])\n",
    "merged_df['description'] = merged_df['cve'].map(lambda x: cve_info[x]['description'])\n",
    "merged_df['weaponized'] = merged_df['cve'].map(lambda x: cve_info[x]['weaponized'])\n",
    "\n",
    "\n",
    "def split_string(string, length):\n",
    "    chunks = []\n",
    "    while len(string) > length:\n",
    "        pos = string.rfind(' ', 0, length)  \n",
    "        if pos <= 0: pos = length          \n",
    "        chunks.append(string[0:pos])\n",
    "        string = string[pos+1:]  \n",
    "    chunks.append(string)\n",
    "    return '<br>'.join(chunks)\n",
    "\n",
    "\n",
    "merged_df['description'] = merged_df['description'].apply(lambda x: split_string(str(x), 40))\n",
    "\n",
    "fig = px.scatter(merged_df, x='cvss', y='epss', hover_data=['ips', 'cve', 'weaponized', 'description'], color='tas',\n",
    "                 labels={'tas':'Known Threat Actor'})  \n",
    "fig.update_layout(\n",
    "    title=dropdown.label,\n",
    "    xaxis_title='CVSS Score (0.0-10.0)',\n",
    "    yaxis_title='EPSS Score (0.0-1.0)',\n",
    "    autosize=False,\n",
    "    width=1000,\n",
    "    height=1000,\n",
    ")\n",
    "\n",
    "fig.add_shape(type=\"line\",\n",
    "    x0=5, y0=0, x1=5, y1=1,\n",
    "    line=dict(color=\"Red\",width=2))\n",
    "\n",
    "fig.add_shape(type=\"line\",\n",
    "    x0=0, y0=0.5, x1=10, y1=0.5,\n",
    "    line=dict(color=\"Red\",width=2))"
   ]
  },
  {
   "cell_type": "markdown",
   "id": "c9573e37",
   "metadata": {},
   "source": [
    "#### Hover over the points to see details about the CVE"
   ]
  }
 ],
 "metadata": {
  "kernelspec": {
   "display_name": "Python 3 (ipykernel)",
   "language": "python",
   "name": "python3"
  },
  "language_info": {
   "codemirror_mode": {
    "name": "ipython",
    "version": 3
   },
   "file_extension": ".py",
   "mimetype": "text/x-python",
   "name": "python",
   "nbconvert_exporter": "python",
   "pygments_lexer": "ipython3",
   "version": "3.10.9"
  }
 },
 "nbformat": 4,
 "nbformat_minor": 5
}
